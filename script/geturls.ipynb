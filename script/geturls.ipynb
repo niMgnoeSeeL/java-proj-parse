{
 "cells": [
  {
   "cell_type": "code",
   "execution_count": 9,
   "metadata": {},
   "outputs": [],
   "source": [
    "import os\n",
    "import sys\n",
    "import json\n",
    "\n",
    "os.chdir(\"/Users/bohrok/Documents/replication-kit-2020-line-validation\")"
   ]
  },
  {
   "cell_type": "code",
   "execution_count": 10,
   "metadata": {},
   "outputs": [
    {
     "data": {
      "text/plain": [
       "277336"
      ]
     },
     "execution_count": 10,
     "metadata": {},
     "output_type": "execute_result"
    }
   ],
   "source": [
    "hunk_label_path = \"data/hunk_labels.json\"\n",
    "with open(hunk_label_path) as f:\n",
    "    hunk_labels = json.load(f)\n",
    "sys.getsizeof(hunk_labels)"
   ]
  },
  {
   "cell_type": "code",
   "execution_count": 11,
   "metadata": {},
   "outputs": [
    {
     "name": "stdout",
     "output_type": "stream",
     "text": [
      "0 https://github.com/apache/ant-ivy\n",
      "4423 https://github.com/apache/commons-math\n",
      "8174 https://github.com/apache/opennlp.git\n",
      "9408 https://github.com/apache/parquet-mr.git\n",
      "10822 https://github.com/apache/wss4j.git\n",
      "13262 https://github.com/apache/archiva.git\n",
      "13539 https://github.com/apache/deltaspike.git\n",
      "13574 https://github.com/apache/systemml.git\n",
      "13606 https://github.com/apache/commons-lang.git\n",
      "14783 https://github.com/apache/commons-net.git\n",
      "15661 https://github.com/apache/commons-collections.git\n",
      "16432 https://github.com/apache/commons-beanutils.git\n",
      "16682 https://github.com/apache/commons-codec.git\n",
      "17257 https://github.com/apache/commons-compress.git\n",
      "18382 https://github.com/apache/commons-configuration.git\n",
      "20389 https://github.com/apache/commons-digester.git\n",
      "20539 https://github.com/apache/commons-jcs.git\n",
      "20548 https://github.com/apache/commons-imaging.git\n",
      "22517 https://github.com/apache/commons-io.git\n",
      "23172 https://github.com/apache/commons-scxml.git\n",
      "23884 https://github.com/apache/commons-validator.git\n",
      "23989 https://github.com/apache/commons-vfs.git\n",
      "24964 https://github.com/apache/giraph.git\n",
      "26641 https://github.com/apache/jspwiki.git\n",
      "26695 https://github.com/apache/eagle.git\n",
      "27649 https://github.com/apache/commons-bcel.git\n",
      "28108 https://github.com/apache/commons-dbcp.git\n",
      "28718 https://github.com/apache/gora.git\n",
      "30060 https://github.com/apache/santuario-java.git\n"
     ]
    }
   ],
   "source": [
    "repo_url_set = set()\n",
    "for idx, hunk in enumerate(hunk_labels):\n",
    "    if \"repository_url\" in hunk:\n",
    "        repo_url = hunk[\"repository_url\"]\n",
    "    if repo_url not in repo_url_set:\n",
    "        print(idx, repo_url)\n",
    "        repo_url_set.add(repo_url)"
   ]
  },
  {
   "cell_type": "code",
   "execution_count": null,
   "metadata": {},
   "outputs": [],
   "source": []
  }
 ],
 "metadata": {
  "kernelspec": {
   "display_name": "Python 3.9.7 64-bit ('3.9.7')",
   "language": "python",
   "name": "python3"
  },
  "language_info": {
   "codemirror_mode": {
    "name": "ipython",
    "version": 3
   },
   "file_extension": ".py",
   "mimetype": "text/x-python",
   "name": "python",
   "nbconvert_exporter": "python",
   "pygments_lexer": "ipython3",
   "version": "3.9.7"
  },
  "orig_nbformat": 4,
  "vscode": {
   "interpreter": {
    "hash": "6cc4813e4c91072c9ce7257a426316b93c888c2cd0458b03d52734fa25fd1a05"
   }
  }
 },
 "nbformat": 4,
 "nbformat_minor": 2
}
